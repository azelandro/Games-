{
 "cells": [
  {
   "cell_type": "code",
   "execution_count": 1,
   "id": "f5eccb3d",
   "metadata": {},
   "outputs": [],
   "source": [
    "import random"
   ]
  },
  {
   "cell_type": "code",
   "execution_count": 2,
   "id": "107345ed",
   "metadata": {},
   "outputs": [],
   "source": [
    "from IPython.display import clear_output"
   ]
  },
  {
   "cell_type": "code",
   "execution_count": 3,
   "id": "ac9f30f0",
   "metadata": {},
   "outputs": [],
   "source": [
    "suits = ('Hearts', 'Diamonds', 'Spades', 'Clubs')\n",
    "ranks = ('Two', 'Three', 'Four', 'Five', 'Six', 'Seven', 'Eight', 'Nine', 'Ten', 'Jack', 'Queen', 'King', 'Ace')\n",
    "values = {'Two':2, 'Three':3, 'Four':4, 'Five':5, 'Six':6, 'Seven':7, 'Eight':8, \n",
    "            'Nine':9, 'Ten':10, 'Jack':10, 'Queen':10, 'King':10, 'Ace':11}"
   ]
  },
  {
   "cell_type": "code",
   "execution_count": 4,
   "id": "b4d98e78",
   "metadata": {},
   "outputs": [],
   "source": [
    "class Card:\n",
    "    \n",
    "    def __init__(self,suit,rank):\n",
    "        self.suit=suit\n",
    "        self.rank=rank\n",
    "        self.values=values[rank]\n",
    "        \n",
    "    def __str__(self):\n",
    "        return self.rank + ' of ' + self.suit"
   ]
  },
  {
   "cell_type": "code",
   "execution_count": 7,
   "id": "b44aa959",
   "metadata": {},
   "outputs": [
    {
     "name": "stdout",
     "output_type": "stream",
     "text": [
      "Two of Hearts\n"
     ]
    }
   ],
   "source": [
    "print(Card('Hearts','Two'))"
   ]
  },
  {
   "cell_type": "code",
   "execution_count": 5,
   "id": "1fd365bd",
   "metadata": {},
   "outputs": [],
   "source": [
    "\n",
    "e=Card('Diamonds','Three')\n",
    "f=Card('Hearts','Three')"
   ]
  },
  {
   "cell_type": "code",
   "execution_count": 6,
   "id": "62558bac",
   "metadata": {},
   "outputs": [],
   "source": [
    "s=[Card('Diamonds','Three'),Card('Hearts','Three')]"
   ]
  },
  {
   "cell_type": "code",
   "execution_count": 7,
   "id": "4108d1f7",
   "metadata": {},
   "outputs": [],
   "source": [
    "h=[e.values,f.values]"
   ]
  },
  {
   "cell_type": "code",
   "execution_count": 8,
   "id": "fe7d1922",
   "metadata": {},
   "outputs": [
    {
     "name": "stdout",
     "output_type": "stream",
     "text": [
      "[3, 3]\n"
     ]
    }
   ],
   "source": [
    "print(h)"
   ]
  },
  {
   "cell_type": "code",
   "execution_count": 9,
   "id": "59e31207",
   "metadata": {},
   "outputs": [],
   "source": [
    "class Deck():\n",
    "    \n",
    "    \n",
    "    def __init__(self):\n",
    "        self.market=[]\n",
    "        for suit in suits:\n",
    "            for rank in ranks:\n",
    "                self.market.append(Card(suit,rank))\n",
    "                \n",
    "    def __str__(self):\n",
    "        deck_comp = ''  # start with an empty string\n",
    "        for card in self.market:\n",
    "            deck_comp += '\\n '+card.__str__() # add each Card object's print string\n",
    "        return 'The deck has:' + deck_comp\n",
    "        \n",
    "    def randomize(self):\n",
    "        random.shuffle(self.market)\n",
    "        \n",
    "    def deal_cards(self):\n",
    "        deal=self.market.pop(-1)\n",
    "        return deal\n",
    "    \n",
    "    def add_cards(self,cards_to_add):\n",
    "        card_total=[]\n",
    "        for card in cards_to_add:\n",
    "            card_total.append(values[card.rank]) \n",
    "        cards_to_add_sum= sum(card_total)\n",
    "        print(cards_to_add_sum)\n",
    "        return cards_to_add_sum\n",
    "    \n",
    "    def hit(self):\n",
    "        hit_card=self.market.pop()\n",
    "        return hit_card"
   ]
  },
  {
   "cell_type": "code",
   "execution_count": 10,
   "id": "382cd44c",
   "metadata": {},
   "outputs": [],
   "source": [
    "class Player:\n",
    "    \n",
    "    def __init__(self,name):\n",
    "        self.name=name\n",
    "        self.amount=1000\n",
    "    \n",
    "    def bet(self):\n",
    "        odds=True\n",
    "        while odds:\n",
    "            self.bet_amount= int(input(f'You have {self.amount} dollars, how much do you want to bet: '))\n",
    "            if self.bet_amount <= self.amount: \n",
    "                odds= False\n",
    "                break\n",
    "            else:\n",
    "                print('Input an amount equal to or less than what you have.')\n",
    "                continue\n",
    "    \n",
    "    def __str__(self):\n",
    "        return f'{self.amount} hi '\n",
    "    \n",
    "    def ticket_has_cut(self):\n",
    "        self.amount -= self.bet_amount\n",
    "        \n",
    "    \n",
    "    def game_entered(self):\n",
    "        self.amount += self.bet_amount\n",
    "        \n",
    "        \n",
    "    def loss(self):\n",
    "        if self.amount <= 0:\n",
    "            return False\n",
    "        "
   ]
  },
  {
   "cell_type": "code",
   "execution_count": 11,
   "id": "c75180f6",
   "metadata": {},
   "outputs": [],
   "source": [
    "class Display:\n",
    "    \n",
    "    def player_cardz(self,player_cards):\n",
    "        print('The player cards are:')\n",
    "        for i in player_cards:\n",
    "            print(i)\n",
    "    \n",
    "    def dealer_cardz_hidden(self,dealer_cards):\n",
    "            print('The dealer card is:')\n",
    "            print(dealer_cards[0])\n",
    "            print('The other is hidden')\n",
    "   \n",
    "    def dealer_cardz_unveiled(self,dealer_cards):\n",
    "        print('The dealer cards are:')\n",
    "        for i in dealer_cards:\n",
    "            print(i)\n",
    "        "
   ]
  },
  {
   "cell_type": "code",
   "execution_count": 12,
   "id": "6edd46df",
   "metadata": {
    "scrolled": true
   },
   "outputs": [
    {
     "name": "stdout",
     "output_type": "stream",
     "text": [
      "Welcome to BlackJack\n",
      "What is your name: Gbenga\n",
      "Hi Gbenga, your cards are Queen of Spades and Four of Hearts\n",
      "You have 1000 dollars, how much do you want to bet: 1000\n",
      "The dealer card is:\n",
      "Three of Hearts\n",
      "The other is hidden\n",
      "The player cards are:\n",
      "Queen of Spades\n",
      "Four of Hearts\n",
      "Enter Hit(H) or Stay(S): h\n",
      "The player cards are:\n",
      "Queen of Spades\n",
      "Four of Hearts\n",
      "Five of Diamonds\n",
      "19\n",
      "The dealer card is:\n",
      "Three of Hearts\n",
      "The other is hidden\n",
      "The player cards are:\n",
      "Queen of Spades\n",
      "Four of Hearts\n",
      "Five of Diamonds\n",
      "Enter Hit(H) or Stay(S): h\n",
      "The player cards are:\n",
      "Queen of Spades\n",
      "Four of Hearts\n",
      "Five of Diamonds\n",
      "Seven of Hearts\n",
      "26\n",
      "You've lost\n",
      "The dealer has won\n",
      "26\n",
      "Your money has finished\n",
      "Thanks for playing\n",
      "13\n",
      "13\n",
      "13\n",
      "26\n"
     ]
    }
   ],
   "source": [
    "print('Welcome to BlackJack')\n",
    "Player_name=input('What is your name: ')\n",
    "\n",
    "play_choice=Player(Player_name)\n",
    "\n",
    "playing_game=True\n",
    "while playing_game:\n",
    "\n",
    "    mydeck= Deck()\n",
    "    mydeck.randomize()\n",
    "    show=Display()\n",
    "\n",
    "    player_cards=[]\n",
    "    dealer_cards=[]\n",
    "\n",
    "    player_cards.append(mydeck.deal_cards())\n",
    "    player_cards.append(mydeck.deal_cards())\n",
    "    dealer_cards.append(mydeck.deal_cards())\n",
    "    dealer_cards.append(mydeck.deal_cards())\n",
    "\n",
    "    print(f'Hi {play_choice.name}, your cards are {player_cards[0]} and {player_cards[1]}')\n",
    "\n",
    "    odds=play_choice.bet()\n",
    "    \n",
    "    betting=True\n",
    "    while betting:\n",
    "        show.dealer_cardz_hidden(dealer_cards)\n",
    "        show.player_cardz(player_cards)\n",
    "        hit_choice = input('Enter Hit(H) or Stay(S): ')\n",
    "        if hit_choice.upper()== 'H' :\n",
    "            player_cards.append(mydeck.hit())\n",
    "            show.player_cardz(player_cards)\n",
    "            if mydeck.add_cards(player_cards) > 21 :\n",
    "                print(\"You've lost\")\n",
    "                print('The dealer has won')\n",
    "                break\n",
    "            else:\n",
    "                continue\n",
    "        if hit_choice.upper()=='S':\n",
    "\n",
    "            show.dealer_cardz_unveiled(dealer_cards)\n",
    "\n",
    "            checking_winner= True\n",
    "\n",
    "            while checking_winner:\n",
    "                #To check if the dealer cards are less than 21 and dealer cards are less than player cards\n",
    "                if mydeck.add_cards(dealer_cards) < 21 and mydeck.add_cards(dealer_cards) < mydeck.add_cards(player_cards):\n",
    "                    dealer_cards.append(mydeck.deal_cards())\n",
    "\n",
    "                #To check if the dealer's cards have gone over 21    \n",
    "                if mydeck.add_cards(dealer_cards) > 21:\n",
    "                    clear_output()\n",
    "                    show.player_cardz(player_cards)\n",
    "                    show.dealer_cardz_unveiled(dealer_cards) \n",
    "                    print('Player wins')\n",
    "\n",
    "                    break\n",
    "\n",
    "                 #To check if the dealer cards are less than 21 and greater than the player cards  \n",
    "                if mydeck.add_cards(dealer_cards) <= 21 and mydeck.add_cards(dealer_cards) > mydeck.add_cards(player_cards):\n",
    "                    clear_output()\n",
    "                    show.player_cardz(player_cards)\n",
    "                    show.dealer_cardz_unveiled(dealer_cards)\n",
    "                    print('Dealer wins')\n",
    "\n",
    "                    break\n",
    "                    \n",
    "        break\n",
    "        \n",
    "    if mydeck.add_cards(player_cards) > 21 :\n",
    "        play_choice.ticket_has_cut()\n",
    "        if play_choice.amount <= 0:\n",
    "            playing_game=play_choice.loss()\n",
    "            print('Your money has finished')\n",
    "            print('Thanks for playing')            \n",
    "        else:\n",
    "            print(f'Sorry, you now have {play_choice.amount}, do you want to continue playing? Y or N')\n",
    "            answer=input()\n",
    "            if answer.upper()=='Y':\n",
    "                continue\n",
    "            else:\n",
    "                print('Thanks for playing')\n",
    "                break\n",
    "    \n",
    "              \n",
    "    if mydeck.add_cards(dealer_cards) > 21:\n",
    "        play_choice.game_entered()\n",
    "        print(f'Congrats, you now have {play_choice.amount}, do you want to continue playing? Y or N')\n",
    "        answer=input()\n",
    "        if answer.upper()=='Y':\n",
    "            continue\n",
    "        else:\n",
    "            print(f'Thanks for playing, you won {play_choice.amount}')\n",
    "            break\n",
    "            \n",
    "    if mydeck.add_cards(dealer_cards) <= 21 and mydeck.add_cards(dealer_cards) > mydeck.add_cards(player_cards):\n",
    "        play_choice.ticket_has_cut()\n",
    "        if play_choice.amount <= 0:\n",
    "            playing_game=play_choice.loss()\n",
    "            print('Your money has finished')\n",
    "            print('Thanks for playing')\n",
    "            \n",
    "        else:\n",
    "            print(f'Sorry, you now have {play_choice.amount}, do you want to continue playing? Y or N')\n",
    "            answer=input()\n",
    "            if answer.upper()=='Y':\n",
    "                continue\n",
    "            else:\n",
    "                print('Thanks for playing')\n",
    "                break\n",
    "    \n",
    "\n",
    "            \n",
    "\n"
   ]
  },
  {
   "cell_type": "code",
   "execution_count": 80,
   "id": "103fd00e",
   "metadata": {},
   "outputs": [],
   "source": [
    "clear_output()"
   ]
  },
  {
   "cell_type": "code",
   "execution_count": null,
   "id": "883e5759",
   "metadata": {},
   "outputs": [],
   "source": [
    "    if mydeck.add_cards(dealer_cards)<21:\n",
    "        print(f'{play_choice.name} has won!!!')\n",
    "        checking_winner= False\n",
    "        break"
   ]
  }
 ],
 "metadata": {
  "kernelspec": {
   "display_name": "Python 3 (ipykernel)",
   "language": "python",
   "name": "python3"
  },
  "language_info": {
   "codemirror_mode": {
    "name": "ipython",
    "version": 3
   },
   "file_extension": ".py",
   "mimetype": "text/x-python",
   "name": "python",
   "nbconvert_exporter": "python",
   "pygments_lexer": "ipython3",
   "version": "3.9.7"
  }
 },
 "nbformat": 4,
 "nbformat_minor": 5
}
